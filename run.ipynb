{
 "cells": [
  {
   "cell_type": "code",
   "execution_count": 5,
   "metadata": {},
   "outputs": [
    {
     "ename": "ValueError",
     "evalue": "Mime type rendering requires nbformat>=4.2.0 but it is not installed",
     "output_type": "error",
     "traceback": [
      "\u001b[1;31m---------------------------------------------------------------------------\u001b[0m",
      "\u001b[1;31mValueError\u001b[0m                                Traceback (most recent call last)",
      "Cell \u001b[1;32mIn[5], line 42\u001b[0m\n\u001b[0;32m     39\u001b[0m fig\u001b[39m.\u001b[39mupdate_layout(title\u001b[39m=\u001b[39m\u001b[39m'\u001b[39m\u001b[39mData Surface Comparison by Country and Color\u001b[39m\u001b[39m'\u001b[39m, showlegend\u001b[39m=\u001b[39m\u001b[39mFalse\u001b[39;00m)\n\u001b[0;32m     41\u001b[0m \u001b[39m# Show the interactive dashboard\u001b[39;00m\n\u001b[1;32m---> 42\u001b[0m fig\u001b[39m.\u001b[39;49mshow()\n",
      "File \u001b[1;32md:\\work\\dash\\.venv\\lib\\site-packages\\plotly\\basedatatypes.py:3409\u001b[0m, in \u001b[0;36mBaseFigure.show\u001b[1;34m(self, *args, **kwargs)\u001b[0m\n\u001b[0;32m   3376\u001b[0m \u001b[39m\u001b[39m\u001b[39m\"\"\"\u001b[39;00m\n\u001b[0;32m   3377\u001b[0m \u001b[39mShow a figure using either the default renderer(s) or the renderer(s)\u001b[39;00m\n\u001b[0;32m   3378\u001b[0m \u001b[39mspecified by the renderer argument\u001b[39;00m\n\u001b[1;32m   (...)\u001b[0m\n\u001b[0;32m   3405\u001b[0m \u001b[39mNone\u001b[39;00m\n\u001b[0;32m   3406\u001b[0m \u001b[39m\"\"\"\u001b[39;00m\n\u001b[0;32m   3407\u001b[0m \u001b[39mimport\u001b[39;00m \u001b[39mplotly\u001b[39;00m\u001b[39m.\u001b[39;00m\u001b[39mio\u001b[39;00m \u001b[39mas\u001b[39;00m \u001b[39mpio\u001b[39;00m\n\u001b[1;32m-> 3409\u001b[0m \u001b[39mreturn\u001b[39;00m pio\u001b[39m.\u001b[39mshow(\u001b[39mself\u001b[39m, \u001b[39m*\u001b[39margs, \u001b[39m*\u001b[39m\u001b[39m*\u001b[39mkwargs)\n",
      "File \u001b[1;32md:\\work\\dash\\.venv\\lib\\site-packages\\plotly\\io\\_renderers.py:396\u001b[0m, in \u001b[0;36mshow\u001b[1;34m(fig, renderer, validate, **kwargs)\u001b[0m\n\u001b[0;32m    391\u001b[0m         \u001b[39mraise\u001b[39;00m \u001b[39mValueError\u001b[39;00m(\n\u001b[0;32m    392\u001b[0m             \u001b[39m\"\u001b[39m\u001b[39mMime type rendering requires ipython but it is not installed\u001b[39m\u001b[39m\"\u001b[39m\n\u001b[0;32m    393\u001b[0m         )\n\u001b[0;32m    395\u001b[0m     \u001b[39mif\u001b[39;00m \u001b[39mnot\u001b[39;00m nbformat \u001b[39mor\u001b[39;00m Version(nbformat\u001b[39m.\u001b[39m__version__) \u001b[39m<\u001b[39m Version(\u001b[39m\"\u001b[39m\u001b[39m4.2.0\u001b[39m\u001b[39m\"\u001b[39m):\n\u001b[1;32m--> 396\u001b[0m         \u001b[39mraise\u001b[39;00m \u001b[39mValueError\u001b[39;00m(\n\u001b[0;32m    397\u001b[0m             \u001b[39m\"\u001b[39m\u001b[39mMime type rendering requires nbformat>=4.2.0 but it is not installed\u001b[39m\u001b[39m\"\u001b[39m\n\u001b[0;32m    398\u001b[0m         )\n\u001b[0;32m    400\u001b[0m     ipython_display\u001b[39m.\u001b[39mdisplay(bundle, raw\u001b[39m=\u001b[39m\u001b[39mTrue\u001b[39;00m)\n\u001b[0;32m    402\u001b[0m \u001b[39m# external renderers\u001b[39;00m\n",
      "\u001b[1;31mValueError\u001b[0m: Mime type rendering requires nbformat>=4.2.0 but it is not installed"
     ]
    }
   ],
   "source": [
    "import pandas as pd\n",
    "import numpy as np\n",
    "import plotly.express as px\n",
    "from plotly.subplots import make_subplots\n",
    "import plotly.graph_objects as go\n",
    "\n",
    "# Generate random data\n",
    "np.random.seed(42)\n",
    "num_rows = 100\n",
    "data = {\n",
    "    'Name': [f'Person {i}' for i in range(1, num_rows + 1)],\n",
    "    'City': np.random.choice(['City A', 'City B', 'City C'], num_rows),\n",
    "    'Country': np.random.choice(['Country X', 'Country Y', 'Country Z'], num_rows),\n",
    "    'Color': np.random.choice(['Red', 'Blue', 'Green'], num_rows),\n",
    "    'Build': np.random.choice(['A', 'B', 'C', 'D'], num_rows),\n",
    "    'Data Surface A': np.random.randint(1, 100, num_rows),\n",
    "    'Data Surface B': np.random.randint(1, 100, num_rows),\n",
    "    'Data Surface C': np.random.randint(1, 100, num_rows),\n",
    "    'Data Surface D': np.random.randint(1, 100, num_rows)\n",
    "}\n",
    "\n",
    "df = pd.DataFrame(data)\n",
    "\n",
    "# Create subplots\n",
    "fig = make_subplots(rows=2, cols=2, subplot_titles=['Data Surface A', 'Data Surface B', 'Data Surface C', 'Data Surface D'])\n",
    "\n",
    "# Loop through each data column and create a grouped bar chart\n",
    "data_columns = ['Data Surface A', 'Data Surface B', 'Data Surface C', 'Data Surface D']\n",
    "for idx, column in enumerate(data_columns):\n",
    "    row = idx // 2 + 1\n",
    "    col = idx % 2 + 1\n",
    "    \n",
    "    grouped_data = df.groupby(['Country', 'Color'])[column].mean().reset_index()\n",
    "    grouped_data = grouped_data.sort_values(by=[column], ascending=False)\n",
    "    \n",
    "    bar_chart = px.bar(grouped_data, x='Country', y=column, color='Color', barmode='group')\n",
    "    fig.add_trace(bar_chart.data[0], row=row, col=col)\n",
    "    \n",
    "fig.update_layout(title='Data Surface Comparison by Country and Color', showlegend=False)\n",
    "    \n",
    "# Show the interactive dashboard\n",
    "fig.show()\n"
   ]
  }
 ],
 "metadata": {
  "kernelspec": {
   "display_name": ".venv",
   "language": "python",
   "name": "python3"
  },
  "language_info": {
   "codemirror_mode": {
    "name": "ipython",
    "version": 3
   },
   "file_extension": ".py",
   "mimetype": "text/x-python",
   "name": "python",
   "nbconvert_exporter": "python",
   "pygments_lexer": "ipython3",
   "version": "3.10.4"
  },
  "orig_nbformat": 4
 },
 "nbformat": 4,
 "nbformat_minor": 2
}
